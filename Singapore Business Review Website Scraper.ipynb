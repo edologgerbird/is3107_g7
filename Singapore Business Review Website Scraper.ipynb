{
 "cells": [
  {
   "cell_type": "code",
   "execution_count": null,
   "metadata": {},
   "outputs": [],
   "source": [
    "import urllib.request,sys,time\n",
    "from urllib.request import Request, urlopen\n",
    "from bs4 import BeautifulSoup\n",
    "import requests\n",
    "import pandas as pd\n",
    "import json"
   ]
  },
  {
   "cell_type": "code",
   "execution_count": null,
   "metadata": {},
   "outputs": [],
   "source": [
    "url = 'https://sbr.com.sg/stocks'\n",
    "req = Request(url , headers={'User-Agent': 'Mozilla/5.0'})\n",
    "webpage = urlopen(req).read()\n",
    "time.sleep(2)\n",
    "soup = BeautifulSoup(webpage, \"html.parser\")\n",
    "noOfPages = soup.find('a',attrs={'title':'Go to last page'})['href'][6:]\n",
    "print(noOfPages)"
   ]
  },
  {
   "cell_type": "code",
   "execution_count": null,
   "metadata": {},
   "outputs": [],
   "source": [
    "def scrapeURL(url):\n",
    "    req = Request(url , headers={'User-Agent': 'Mozilla/5.0'})\n",
    "    webpage = urlopen(req).read()\n",
    "    time.sleep(2)\n",
    "    soup = BeautifulSoup(webpage, \"html.parser\")\n",
    "    metadata = soup.find('article')\n",
    "    output_dict = dict()\n",
    "    \n",
    "    #Title\n",
    "    title = metadata.find('h1',attrs={'class': 'nf__title'}).text.strip()\n",
    "    output_dict['title'] = title\n",
    "    \n",
    "    #Text\n",
    "    text = metadata.find('div',attrs={'class': 'nf__description'}).text.strip()\n",
    "    output_dict['text'] = text\n",
    "    \n",
    "    #Date\n",
    "    script = soup.find('script',attrs={'type': 'application/ld+json'}).text\n",
    "    dictionary = json.loads(script)\n",
    "    date = dictionary['@graph'][0]['datePublished']\n",
    "    output_dict['date'] = date\n",
    "    \n",
    "    return output_dict"
   ]
  },
  {
   "cell_type": "code",
   "execution_count": null,
   "metadata": {},
   "outputs": [],
   "source": [
    "articles_df = pd.DataFrame(columns = ['Title', 'Text', 'Link', 'Date'])\n",
    "for page in range(0,int(noOfPages)):\n",
    "    print('Processing page :', page)\n",
    "    url = 'https://sbr.com.sg/stocks?page='+str(page)\n",
    "    print(url)\n",
    "    \n",
    "    req = Request(url , headers={'User-Agent': 'Mozilla/5.0'})\n",
    "    webpage = urlopen(req).read()\n",
    "    \n",
    "    time.sleep(2)\n",
    "    \n",
    "    soup = BeautifulSoup(webpage, \"html.parser\")\n",
    "    soup = soup.find('main',attrs={'class':'main-content'})\n",
    "    links=soup.find_all('div',attrs={'class':'item with-border-bottom'})\n",
    "   \n",
    "    for j in links:\n",
    "        link = j.find(\"h2\",attrs={'class':'item__title size-24'}).find('a')['href'].strip()\n",
    "        output_dict = scrapeURL(link)\n",
    "        \n",
    "        #Other metadata\n",
    "#         article.summary\n",
    "#         article.keywords \n",
    "#         article.top_image\n",
    "#         article.images \n",
    "        \n",
    "        articles_df = articles_df.append({'Link' : link, 'Title': output_dict['title'], 'Text': output_dict['text'], 'Date': output_dict['date']}, ignore_index = True)\n"
   ]
  },
  {
   "cell_type": "code",
   "execution_count": null,
   "metadata": {},
   "outputs": [],
   "source": [
    "articles_df.to_csv('sbr_articles_stocks', index=0)"
   ]
  },
  {
   "cell_type": "code",
   "execution_count": null,
   "metadata": {},
   "outputs": [],
   "source": []
  }
 ],
 "metadata": {
  "kernelspec": {
   "display_name": "Python 3",
   "language": "python",
   "name": "python3"
  },
  "language_info": {
   "codemirror_mode": {
    "name": "ipython",
    "version": 3
   },
   "file_extension": ".py",
   "mimetype": "text/x-python",
   "name": "python",
   "nbconvert_exporter": "python",
   "pygments_lexer": "ipython3",
   "version": "3.7.6"
  },
  "toc": {
   "base_numbering": 1,
   "nav_menu": {},
   "number_sections": false,
   "sideBar": false,
   "skip_h1_title": false,
   "title_cell": "Table of Contents",
   "title_sidebar": "Contents",
   "toc_cell": false,
   "toc_position": {},
   "toc_section_display": false,
   "toc_window_display": false
  }
 },
 "nbformat": 4,
 "nbformat_minor": 4
}
